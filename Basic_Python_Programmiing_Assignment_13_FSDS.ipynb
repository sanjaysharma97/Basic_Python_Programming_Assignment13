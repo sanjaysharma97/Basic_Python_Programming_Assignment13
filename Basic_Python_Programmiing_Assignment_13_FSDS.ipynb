{
 "cells": [
  {
   "cell_type": "markdown",
   "id": "90745478",
   "metadata": {},
   "source": [
    "# 1.Write a program that calculates and prints the value according to the given formula:\n",
    "Q = Square root of [(2 * C * D)/H]\n",
    "Following are the fixed values of C and H:\n",
    "C is 50. H is 30.\n",
    "D is the variable whose values should be input to your program in a comma-separated\n",
    "sequence.\n",
    "Example\n",
    "Let us assume the following comma separated input sequence is given to the program:\n",
    "100,150,180\n",
    "The output of the program should be:\n",
    "18,22,24\n",
    "\n",
    "ANSWER-"
   ]
  },
  {
   "cell_type": "code",
   "execution_count": 54,
   "id": "4ef34b07",
   "metadata": {},
   "outputs": [
    {
     "name": "stdout",
     "output_type": "stream",
     "text": [
      "enter the inputs: 100,150,180,200,300\n",
      "Output: 18,22,24,25,31\n"
     ]
    }
   ],
   "source": [
    "from math import sqrt\n",
    "def calprogram():\n",
    "    variable=eval(input(\"enter the inputs: \"))\n",
    "    output=[]\n",
    "    C=50\n",
    "    H=30\n",
    "    for i in variable:\n",
    "        Q=str(int(sqrt((2*C*i)/H)))\n",
    "        output.append(Q)\n",
    "    print(\"Output: {}\".format(','.join(output)))\n",
    "    \n",
    "calprogram()    \n",
    "        "
   ]
  },
  {
   "cell_type": "markdown",
   "id": "b52b2036",
   "metadata": {},
   "source": [
    "# 2. Write a program which takes 2 digits, X,Y as input and generates a 2-dimensional array. The\n",
    "element value in the i-th row and j-th column of the array should be i*j.\n",
    "Note: i=0,1.., X-1; j=0,1,¡Y-1.\n",
    "Example\n",
    "Suppose the following inputs are given to the program:\n",
    "3,5\n",
    "Then, the output of the program should be:\n",
    "[[0, 0, 0, 0, 0], [0, 1, 2, 3, 4], [0, 2, 4, 6, 8]]\n",
    "\n",
    "ANSWER-"
   ]
  },
  {
   "cell_type": "code",
   "execution_count": 10,
   "id": "f32a301f",
   "metadata": {},
   "outputs": [
    {
     "name": "stdout",
     "output_type": "stream",
     "text": [
      "enter number of rows: 3\n",
      "enter number of columns: 5\n",
      "[[0, 0, 0, 0, 0], [0, 1, 2, 3, 4], [0, 2, 4, 6, 8]]\n",
      "enter number of rows: 3\n",
      "enter number of columns: 3\n",
      "[[0, 0, 0], [0, 1, 2], [0, 2, 4]]\n"
     ]
    }
   ],
   "source": [
    "import array as arr\n",
    "def generate2Darr():\n",
    "    R=int(input(\"enter number of rows: \"))\n",
    "    C=int(input(\"enter number of columns: \"))\n",
    "    final_array=[]\n",
    "    for i in range(R):\n",
    "        final_array.insert(R,[])\n",
    "        for j in range(C):\n",
    "            final_array[i].append(i*j)\n",
    "    print(final_array)\n",
    "        \n",
    "generate2Darr() \n",
    "generate2Darr() "
   ]
  },
  {
   "cell_type": "markdown",
   "id": "fd9e00c2",
   "metadata": {},
   "source": [
    "# 3.Write a program that accepts a comma separated sequence of words as input and prints the\n",
    "words in a comma-separated sequence after sorting them alphabetically.\n",
    "Suppose the following input is supplied to the program:\n",
    "without,hello,bag,world\n",
    "Then, the output should be:\n",
    "bag,hello,without,world\n",
    "\n",
    "ANSWER-"
   ]
  },
  {
   "cell_type": "code",
   "execution_count": 20,
   "id": "1f921157",
   "metadata": {},
   "outputs": [
    {
     "name": "stdout",
     "output_type": "stream",
     "text": [
      "enter the words you want: sanjay,ineuron,krish,sudhanshu,ravi,sunny,piyush\n",
      "output:ineuron,krish,piyush,ravi,sanjay,sudhanshu,sunny\n"
     ]
    }
   ],
   "source": [
    "def sortword():\n",
    "    word=input(\"enter the words you want: \")\n",
    "    output=','.join(sorted(word.split(',')))\n",
    "    print(f'output:{output}')\n",
    "    \n",
    "sortword()    \n"
   ]
  },
  {
   "cell_type": "markdown",
   "id": "738a1d6a",
   "metadata": {},
   "source": [
    "# 4.Write a program that accepts a sequence of whitespace separated words as input and prints\n",
    "the words after removing all duplicate words and sorting them alphanumerically.\n",
    "Suppose the following input is supplied to the program:\n",
    "hello world and practice makes perfect and hello world again\n",
    "Then, the output should be:\n",
    "again and hello makes perfect practice world\n",
    "\n",
    "ANSWER-"
   ]
  },
  {
   "cell_type": "code",
   "execution_count": 26,
   "id": "1e772cbf",
   "metadata": {},
   "outputs": [
    {
     "name": "stdout",
     "output_type": "stream",
     "text": [
      "enter the paragraph:  sanjay sharma krish naik sudhanshu kumar sanjay naik kumar ravi dash dash sunny bhavven sunny\n",
      "Output is  bhavven dash krish kumar naik ravi sanjay sharma sudhanshu sunny\n"
     ]
    }
   ],
   "source": [
    "def removeduplicate():\n",
    "    paragraph=input(\"enter the paragraph: \")\n",
    "    output=' '.join(sorted(sorted(list(set(paragraph.split(' '))))))\n",
    "    print(f'Output is {output}')\n",
    "    \n",
    "removeduplicate()    "
   ]
  },
  {
   "cell_type": "markdown",
   "id": "6c277a94",
   "metadata": {},
   "source": [
    "# 5.Write a program that accepts a sentence and calculate the number of letters and digits.\n",
    "Suppose the following input is supplied to the program:\n",
    "hello world! 123\n",
    "Then, the output should be:\n",
    "LETTERS 10\n",
    "DIGITS 3\n",
    "\n",
    "ANSWER-"
   ]
  },
  {
   "cell_type": "code",
   "execution_count": 29,
   "id": "32d67c9d",
   "metadata": {},
   "outputs": [
    {
     "name": "stdout",
     "output_type": "stream",
     "text": [
      "enter the inputs: hey ineuron? how are you ,i hope you are doing 123 well 80 134 keep it up 78 and keep going on 90.\n",
      "the letters are in given string is 61 and digits are 12\n"
     ]
    }
   ],
   "source": [
    "def caldigitandletter():\n",
    "    n=input(\"enter the inputs: \")\n",
    "    letters='ABCDEFGHIJKLMNOPQRSTUVWXYZabcdefghijklmnopqrstuvwxyz'\n",
    "    digits='0123456789'\n",
    "    L=0\n",
    "    D=0\n",
    "    for i in n:\n",
    "        if i in letters:\n",
    "            L=L+1\n",
    "        if i in digits:\n",
    "            D=D+1\n",
    "    print(f'the letters are in given string is {L} and digits are {D}')\n",
    "          \n",
    "caldigitandletter()          \n",
    "            "
   ]
  },
  {
   "cell_type": "markdown",
   "id": "c5579040",
   "metadata": {},
   "source": [
    "# 6. A website requires the users to input username and password to register. Write a program to\n",
    "check the validity of password input by users.\n",
    "Following are the criteria for checking the password:\n",
    "1. At least 1 letter between [a-z]\n",
    "2. At least 1 number between [0-9]\n",
    "1. At least 1 letter between [A-Z]\n",
    "3. At least 1 character from [$#@]\n",
    "4. Minimum length of transaction password: 6\n",
    "5. Maximum length of transaction password: 12\n",
    "Your program should accept a sequence of comma separated passwords and will check them\n",
    "according to the above criteria. Passwords that match the criteria are to be printed, each\n",
    "separated by a comma.\n",
    "Example\n",
    "If the following passwords are given as input to the program:\n",
    "ABd1234@1,a F1#,2w3E*,2We3345\n",
    "Then, the output of the program should be:\n",
    "ABd1234@1"
   ]
  },
  {
   "cell_type": "code",
   "execution_count": 33,
   "id": "5b900f57",
   "metadata": {},
   "outputs": [
    {
     "name": "stdout",
     "output_type": "stream",
     "text": [
      "enter password: ABd1234@1,a F1#,2w3E*,2We3345\n",
      "ABd1234@1\n",
      "enter password: san23@,sanA19,sanJ10@,pi3\n",
      "sanJ10@\n"
     ]
    }
   ],
   "source": [
    "def register():\n",
    "    m=input(\"enter password: \")\n",
    "    letters='abcdefghijklmnopqrstuvwxyz'\n",
    "    letters1='ABCDEFGHIJKLMNOPQRSTUVWXYZ'\n",
    "    digit='0123456789'\n",
    "    spl_char='$@#'\n",
    "    for ele in m.split(\",\"):\n",
    "        if len(ele)<=14 and len(ele)>=6:\n",
    "            if any(i.isupper() for i in ele):\n",
    "                if any(i.islower() for i in ele):\n",
    "                    if any(i for i in ele if i in spl_char):\n",
    "                        print(ele)\n",
    "                        \n",
    "register() \n",
    "register()   "
   ]
  },
  {
   "cell_type": "code",
   "execution_count": null,
   "id": "352f2f30",
   "metadata": {},
   "outputs": [],
   "source": []
  }
 ],
 "metadata": {
  "kernelspec": {
   "display_name": "Python 3 (ipykernel)",
   "language": "python",
   "name": "python3"
  },
  "language_info": {
   "codemirror_mode": {
    "name": "ipython",
    "version": 3
   },
   "file_extension": ".py",
   "mimetype": "text/x-python",
   "name": "python",
   "nbconvert_exporter": "python",
   "pygments_lexer": "ipython3",
   "version": "3.9.12"
  }
 },
 "nbformat": 4,
 "nbformat_minor": 5
}
